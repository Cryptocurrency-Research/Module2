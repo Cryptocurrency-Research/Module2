{
  "cells": [
    {
      "cell_type": "code",
      "execution_count": 1,
      "metadata": {
        "colab": {
          "base_uri": "https://localhost:8080/"
        },
        "id": "sHEdIovSDZ0l",
        "outputId": "a7505bd7-8ebc-4523-909c-b1c490c38c7c"
      },
      "outputs": [
        {
          "output_type": "stream",
          "name": "stdout",
          "text": [
            "Looking in indexes: https://pypi.org/simple, https://us-python.pkg.dev/colab-wheels/public/simple/\n",
            "Collecting tensorflow-gpu\n",
            "  Downloading tensorflow_gpu-2.9.1-cp37-cp37m-manylinux_2_17_x86_64.manylinux2014_x86_64.whl (511.7 MB)\n",
            "\u001b[K     |███████████████████▉            | 316.3 MB 19.5 MB/s eta 0:00:11\u001b[31mERROR: Exception:\n",
            "Traceback (most recent call last):\n",
            "  File \"/usr/local/lib/python3.7/dist-packages/pip/_internal/cli/base_command.py\", line 180, in _main\n",
            "    status = self.run(options, args)\n",
            "  File \"/usr/local/lib/python3.7/dist-packages/pip/_internal/cli/req_command.py\", line 199, in wrapper\n",
            "    return func(self, options, args)\n",
            "  File \"/usr/local/lib/python3.7/dist-packages/pip/_internal/commands/install.py\", line 319, in run\n",
            "    reqs, check_supported_wheels=not options.target_dir\n",
            "  File \"/usr/local/lib/python3.7/dist-packages/pip/_internal/resolution/resolvelib/resolver.py\", line 128, in resolve\n",
            "    requirements, max_rounds=try_to_avoid_resolution_too_deep\n",
            "  File \"/usr/local/lib/python3.7/dist-packages/pip/_vendor/resolvelib/resolvers.py\", line 473, in resolve\n",
            "    state = resolution.resolve(requirements, max_rounds=max_rounds)\n",
            "  File \"/usr/local/lib/python3.7/dist-packages/pip/_vendor/resolvelib/resolvers.py\", line 341, in resolve\n",
            "    name, crit = self._merge_into_criterion(r, parent=None)\n",
            "  File \"/usr/local/lib/python3.7/dist-packages/pip/_vendor/resolvelib/resolvers.py\", line 172, in _merge_into_criterion\n",
            "    if not criterion.candidates:\n",
            "  File \"/usr/local/lib/python3.7/dist-packages/pip/_vendor/resolvelib/structs.py\", line 139, in __bool__\n",
            "    return bool(self._sequence)\n",
            "  File \"/usr/local/lib/python3.7/dist-packages/pip/_internal/resolution/resolvelib/found_candidates.py\", line 143, in __bool__\n",
            "    return any(self)\n",
            "  File \"/usr/local/lib/python3.7/dist-packages/pip/_internal/resolution/resolvelib/found_candidates.py\", line 129, in <genexpr>\n",
            "    return (c for c in iterator if id(c) not in self._incompatible_ids)\n",
            "  File \"/usr/local/lib/python3.7/dist-packages/pip/_internal/resolution/resolvelib/found_candidates.py\", line 33, in _iter_built\n",
            "    candidate = func()\n",
            "  File \"/usr/local/lib/python3.7/dist-packages/pip/_internal/resolution/resolvelib/factory.py\", line 205, in _make_candidate_from_link\n",
            "    version=version,\n",
            "  File \"/usr/local/lib/python3.7/dist-packages/pip/_internal/resolution/resolvelib/candidates.py\", line 312, in __init__\n",
            "    version=version,\n",
            "  File \"/usr/local/lib/python3.7/dist-packages/pip/_internal/resolution/resolvelib/candidates.py\", line 151, in __init__\n",
            "    self.dist = self._prepare()\n",
            "  File \"/usr/local/lib/python3.7/dist-packages/pip/_internal/resolution/resolvelib/candidates.py\", line 234, in _prepare\n",
            "    dist = self._prepare_distribution()\n",
            "  File \"/usr/local/lib/python3.7/dist-packages/pip/_internal/resolution/resolvelib/candidates.py\", line 318, in _prepare_distribution\n",
            "    self._ireq, parallel_builds=True\n",
            "  File \"/usr/local/lib/python3.7/dist-packages/pip/_internal/operations/prepare.py\", line 508, in prepare_linked_requirement\n",
            "    return self._prepare_linked_requirement(req, parallel_builds)\n",
            "  File \"/usr/local/lib/python3.7/dist-packages/pip/_internal/operations/prepare.py\", line 552, in _prepare_linked_requirement\n",
            "    self.download_dir, hashes\n",
            "  File \"/usr/local/lib/python3.7/dist-packages/pip/_internal/operations/prepare.py\", line 243, in unpack_url\n",
            "    hashes=hashes,\n",
            "  File \"/usr/local/lib/python3.7/dist-packages/pip/_internal/operations/prepare.py\", line 102, in get_http_url\n",
            "    from_path, content_type = download(link, temp_dir.path)\n",
            "  File \"/usr/local/lib/python3.7/dist-packages/pip/_internal/network/download.py\", line 157, in __call__\n",
            "    for chunk in chunks:\n",
            "  File \"/usr/local/lib/python3.7/dist-packages/pip/_internal/cli/progress_bars.py\", line 156, in iter\n",
            "    self.next(len(x))  # noqa: B305\n",
            "  File \"/usr/local/lib/python3.7/dist-packages/pip/_vendor/progress/__init__.py\", line 120, in next\n",
            "    self.update()\n",
            "  File \"/usr/local/lib/python3.7/dist-packages/pip/_vendor/progress/bar.py\", line 83, in update\n",
            "    self.writeln(line)\n",
            "  File \"/usr/local/lib/python3.7/dist-packages/pip/_vendor/progress/__init__.py\", line 101, in writeln\n",
            "    self.clearln()\n",
            "  File \"/usr/local/lib/python3.7/dist-packages/pip/_vendor/progress/__init__.py\", line 90, in clearln\n",
            "    print('\\r\\x1b[K', end='', file=self.file)\n",
            "  File \"/usr/local/lib/python3.7/dist-packages/pip/_internal/cli/progress_bars.py\", line 106, in handle_sigint\n",
            "    self.finish()\n",
            "  File \"/usr/local/lib/python3.7/dist-packages/pip/_internal/cli/progress_bars.py\", line 96, in finish\n",
            "    super().finish()  # type: ignore\n",
            "  File \"/usr/local/lib/python3.7/dist-packages/pip/_vendor/progress/__init__.py\", line 107, in finish\n",
            "    print(file=self.file)\n",
            "RuntimeError: reentrant call inside <_io.BufferedWriter name='<stdout>'>\u001b[0m\n",
            "\u001b[K"
          ]
        }
      ],
      "source": [
        "pip install tensorflow-gpu"
      ]
    },
    {
      "cell_type": "code",
      "execution_count": 2,
      "metadata": {
        "id": "VBXq-Wb_K1XR",
        "colab": {
          "base_uri": "https://localhost:8080/"
        },
        "outputId": "0c469acc-e15c-449f-9cbc-c2425a36b815"
      },
      "outputs": [
        {
          "output_type": "stream",
          "name": "stdout",
          "text": [
            "Processing......\n"
          ]
        }
      ],
      "source": [
        "import os\n",
        "import numpy as np\n",
        "import tensorflow as tf\n",
        "from tensorflow import keras\n",
        "import pandas as pd\n",
        "import seaborn as sns\n",
        "from pylab import rcParams\n",
        "import matplotlib.pyplot as plt\n",
        "from matplotlib import rc\n",
        "from sklearn.preprocessing import MinMaxScaler\n",
        "from tensorflow.keras.layers import Bidirectional, Dropout, Activation, Dense, LSTM\n",
        "from tensorflow.python.keras.layers import CuDNNLSTM\n",
        "from tensorflow.keras.models import Sequential\n",
        "\n",
        "%matplotlib inline\n",
        "\n",
        "sns.set(style='whitegrid', palette='muted', font_scale=1.5)\n",
        "\n",
        "rcParams['figure.figsize'] = 14, 8\n",
        "\n",
        "RANDOM_SEED = 42\n",
        "\n",
        "np.random.seed(RANDOM_SEED)\n",
        "print(\"Processing......\")\n"
      ]
    },
    {
      "cell_type": "code",
      "execution_count": 3,
      "metadata": {
        "id": "y5o6dHO2LLz-",
        "colab": {
          "base_uri": "https://localhost:8080/"
        },
        "outputId": "50e90dac-7b1b-4f99-e2be-d3d87e2c8882"
      },
      "outputs": [
        {
          "output_type": "stream",
          "name": "stdout",
          "text": [
            "Processing.....\n"
          ]
        }
      ],
      "source": [
        "# Data comes from:\n",
        "# https://finance.yahoo.com/quote/BTC-USD/history?period1=1279314000&period2=1556053200&interval=1d&filter=history&frequency=1d\n",
        "\n",
        "csv_path = \"https://raw.githubusercontent.com/curiousily/Deep-Learning-For-Hackers/master/data/3.stock-prediction/BTC-USD.csv\"\n",
        "# csv_path = \"https://raw.githubusercontent.com/curiousily/Deep-Learning-For-Hackers/master/data/3.stock-prediction/AAPL.csv\"\n",
        "\n",
        "print(\"Processing.....\")"
      ]
    },
    {
      "cell_type": "code",
      "execution_count": 4,
      "metadata": {
        "id": "BnuBLC5DLjXH"
      },
      "outputs": [],
      "source": [
        "df = pd.read_csv(csv_path, parse_dates=['Date'])"
      ]
    },
    {
      "cell_type": "code",
      "execution_count": 5,
      "metadata": {
        "id": "kqMRRLeTLk_P"
      },
      "outputs": [],
      "source": [
        "df = df.sort_values('Date')"
      ]
    },
    {
      "cell_type": "code",
      "execution_count": 6,
      "metadata": {
        "colab": {
          "base_uri": "https://localhost:8080/",
          "height": 417
        },
        "id": "mU4B3eNtLpgH",
        "outputId": "9a1acafa-ed62-4c66-8668-4730f21f247d"
      },
      "outputs": [
        {
          "output_type": "execute_result",
          "data": {
            "text/plain": [
              "        Date     Open     High      Low    Close  Adj Close  Volume\n",
              "0 2010-07-16  0.04951  0.04951  0.04951  0.04951    0.04951       0\n",
              "1 2010-07-17  0.04951  0.08585  0.05941  0.08584    0.08584       5\n",
              "2 2010-07-18  0.08584  0.09307  0.07723  0.08080    0.08080      49\n",
              "3 2010-07-19  0.08080  0.08181  0.07426  0.07474    0.07474      20\n",
              "4 2010-07-20  0.07474  0.07921  0.06634  0.07921    0.07921      42\n",
              "5 2010-07-21  0.07921  0.08181  0.05050  0.05050    0.05050     129\n",
              "6 2010-07-22  0.05050  0.06767  0.05050  0.06262    0.06262     141\n",
              "7 2010-07-23  0.06262  0.06161  0.05049  0.05454    0.05454      26\n",
              "8 2010-07-24  0.05454  0.05941  0.05050  0.05050    0.05050      85\n",
              "9 2010-07-25  0.05050  0.05600  0.05000  0.05600    0.05600      46"
            ],
            "text/html": [
              "\n",
              "  <div id=\"df-1ed64cd4-da26-4321-b767-dae4a0fd6dc2\">\n",
              "    <div class=\"colab-df-container\">\n",
              "      <div>\n",
              "<style scoped>\n",
              "    .dataframe tbody tr th:only-of-type {\n",
              "        vertical-align: middle;\n",
              "    }\n",
              "\n",
              "    .dataframe tbody tr th {\n",
              "        vertical-align: top;\n",
              "    }\n",
              "\n",
              "    .dataframe thead th {\n",
              "        text-align: right;\n",
              "    }\n",
              "</style>\n",
              "<table border=\"1\" class=\"dataframe\">\n",
              "  <thead>\n",
              "    <tr style=\"text-align: right;\">\n",
              "      <th></th>\n",
              "      <th>Date</th>\n",
              "      <th>Open</th>\n",
              "      <th>High</th>\n",
              "      <th>Low</th>\n",
              "      <th>Close</th>\n",
              "      <th>Adj Close</th>\n",
              "      <th>Volume</th>\n",
              "    </tr>\n",
              "  </thead>\n",
              "  <tbody>\n",
              "    <tr>\n",
              "      <th>0</th>\n",
              "      <td>2010-07-16</td>\n",
              "      <td>0.04951</td>\n",
              "      <td>0.04951</td>\n",
              "      <td>0.04951</td>\n",
              "      <td>0.04951</td>\n",
              "      <td>0.04951</td>\n",
              "      <td>0</td>\n",
              "    </tr>\n",
              "    <tr>\n",
              "      <th>1</th>\n",
              "      <td>2010-07-17</td>\n",
              "      <td>0.04951</td>\n",
              "      <td>0.08585</td>\n",
              "      <td>0.05941</td>\n",
              "      <td>0.08584</td>\n",
              "      <td>0.08584</td>\n",
              "      <td>5</td>\n",
              "    </tr>\n",
              "    <tr>\n",
              "      <th>2</th>\n",
              "      <td>2010-07-18</td>\n",
              "      <td>0.08584</td>\n",
              "      <td>0.09307</td>\n",
              "      <td>0.07723</td>\n",
              "      <td>0.08080</td>\n",
              "      <td>0.08080</td>\n",
              "      <td>49</td>\n",
              "    </tr>\n",
              "    <tr>\n",
              "      <th>3</th>\n",
              "      <td>2010-07-19</td>\n",
              "      <td>0.08080</td>\n",
              "      <td>0.08181</td>\n",
              "      <td>0.07426</td>\n",
              "      <td>0.07474</td>\n",
              "      <td>0.07474</td>\n",
              "      <td>20</td>\n",
              "    </tr>\n",
              "    <tr>\n",
              "      <th>4</th>\n",
              "      <td>2010-07-20</td>\n",
              "      <td>0.07474</td>\n",
              "      <td>0.07921</td>\n",
              "      <td>0.06634</td>\n",
              "      <td>0.07921</td>\n",
              "      <td>0.07921</td>\n",
              "      <td>42</td>\n",
              "    </tr>\n",
              "    <tr>\n",
              "      <th>5</th>\n",
              "      <td>2010-07-21</td>\n",
              "      <td>0.07921</td>\n",
              "      <td>0.08181</td>\n",
              "      <td>0.05050</td>\n",
              "      <td>0.05050</td>\n",
              "      <td>0.05050</td>\n",
              "      <td>129</td>\n",
              "    </tr>\n",
              "    <tr>\n",
              "      <th>6</th>\n",
              "      <td>2010-07-22</td>\n",
              "      <td>0.05050</td>\n",
              "      <td>0.06767</td>\n",
              "      <td>0.05050</td>\n",
              "      <td>0.06262</td>\n",
              "      <td>0.06262</td>\n",
              "      <td>141</td>\n",
              "    </tr>\n",
              "    <tr>\n",
              "      <th>7</th>\n",
              "      <td>2010-07-23</td>\n",
              "      <td>0.06262</td>\n",
              "      <td>0.06161</td>\n",
              "      <td>0.05049</td>\n",
              "      <td>0.05454</td>\n",
              "      <td>0.05454</td>\n",
              "      <td>26</td>\n",
              "    </tr>\n",
              "    <tr>\n",
              "      <th>8</th>\n",
              "      <td>2010-07-24</td>\n",
              "      <td>0.05454</td>\n",
              "      <td>0.05941</td>\n",
              "      <td>0.05050</td>\n",
              "      <td>0.05050</td>\n",
              "      <td>0.05050</td>\n",
              "      <td>85</td>\n",
              "    </tr>\n",
              "    <tr>\n",
              "      <th>9</th>\n",
              "      <td>2010-07-25</td>\n",
              "      <td>0.05050</td>\n",
              "      <td>0.05600</td>\n",
              "      <td>0.05000</td>\n",
              "      <td>0.05600</td>\n",
              "      <td>0.05600</td>\n",
              "      <td>46</td>\n",
              "    </tr>\n",
              "  </tbody>\n",
              "</table>\n",
              "</div>\n",
              "      <button class=\"colab-df-convert\" onclick=\"convertToInteractive('df-1ed64cd4-da26-4321-b767-dae4a0fd6dc2')\"\n",
              "              title=\"Convert this dataframe to an interactive table.\"\n",
              "              style=\"display:none;\">\n",
              "        \n",
              "  <svg xmlns=\"http://www.w3.org/2000/svg\" height=\"24px\"viewBox=\"0 0 24 24\"\n",
              "       width=\"24px\">\n",
              "    <path d=\"M0 0h24v24H0V0z\" fill=\"none\"/>\n",
              "    <path d=\"M18.56 5.44l.94 2.06.94-2.06 2.06-.94-2.06-.94-.94-2.06-.94 2.06-2.06.94zm-11 1L8.5 8.5l.94-2.06 2.06-.94-2.06-.94L8.5 2.5l-.94 2.06-2.06.94zm10 10l.94 2.06.94-2.06 2.06-.94-2.06-.94-.94-2.06-.94 2.06-2.06.94z\"/><path d=\"M17.41 7.96l-1.37-1.37c-.4-.4-.92-.59-1.43-.59-.52 0-1.04.2-1.43.59L10.3 9.45l-7.72 7.72c-.78.78-.78 2.05 0 2.83L4 21.41c.39.39.9.59 1.41.59.51 0 1.02-.2 1.41-.59l7.78-7.78 2.81-2.81c.8-.78.8-2.07 0-2.86zM5.41 20L4 18.59l7.72-7.72 1.47 1.35L5.41 20z\"/>\n",
              "  </svg>\n",
              "      </button>\n",
              "      \n",
              "  <style>\n",
              "    .colab-df-container {\n",
              "      display:flex;\n",
              "      flex-wrap:wrap;\n",
              "      gap: 12px;\n",
              "    }\n",
              "\n",
              "    .colab-df-convert {\n",
              "      background-color: #E8F0FE;\n",
              "      border: none;\n",
              "      border-radius: 50%;\n",
              "      cursor: pointer;\n",
              "      display: none;\n",
              "      fill: #1967D2;\n",
              "      height: 32px;\n",
              "      padding: 0 0 0 0;\n",
              "      width: 32px;\n",
              "    }\n",
              "\n",
              "    .colab-df-convert:hover {\n",
              "      background-color: #E2EBFA;\n",
              "      box-shadow: 0px 1px 2px rgba(60, 64, 67, 0.3), 0px 1px 3px 1px rgba(60, 64, 67, 0.15);\n",
              "      fill: #174EA6;\n",
              "    }\n",
              "\n",
              "    [theme=dark] .colab-df-convert {\n",
              "      background-color: #3B4455;\n",
              "      fill: #D2E3FC;\n",
              "    }\n",
              "\n",
              "    [theme=dark] .colab-df-convert:hover {\n",
              "      background-color: #434B5C;\n",
              "      box-shadow: 0px 1px 3px 1px rgba(0, 0, 0, 0.15);\n",
              "      filter: drop-shadow(0px 1px 2px rgba(0, 0, 0, 0.3));\n",
              "      fill: #FFFFFF;\n",
              "    }\n",
              "  </style>\n",
              "\n",
              "      <script>\n",
              "        const buttonEl =\n",
              "          document.querySelector('#df-1ed64cd4-da26-4321-b767-dae4a0fd6dc2 button.colab-df-convert');\n",
              "        buttonEl.style.display =\n",
              "          google.colab.kernel.accessAllowed ? 'block' : 'none';\n",
              "\n",
              "        async function convertToInteractive(key) {\n",
              "          const element = document.querySelector('#df-1ed64cd4-da26-4321-b767-dae4a0fd6dc2');\n",
              "          const dataTable =\n",
              "            await google.colab.kernel.invokeFunction('convertToInteractive',\n",
              "                                                     [key], {});\n",
              "          if (!dataTable) return;\n",
              "\n",
              "          const docLinkHtml = 'Like what you see? Visit the ' +\n",
              "            '<a target=\"_blank\" href=https://colab.research.google.com/notebooks/data_table.ipynb>data table notebook</a>'\n",
              "            + ' to learn more about interactive tables.';\n",
              "          element.innerHTML = '';\n",
              "          dataTable['output_type'] = 'display_data';\n",
              "          await google.colab.output.renderOutput(dataTable, element);\n",
              "          const docLink = document.createElement('div');\n",
              "          docLink.innerHTML = docLinkHtml;\n",
              "          element.appendChild(docLink);\n",
              "        }\n",
              "      </script>\n",
              "    </div>\n",
              "  </div>\n",
              "  "
            ]
          },
          "metadata": {},
          "execution_count": 6
        }
      ],
      "source": [
        "df.head(10)\n"
      ]
    },
    {
      "cell_type": "code",
      "execution_count": 7,
      "metadata": {
        "colab": {
          "base_uri": "https://localhost:8080/"
        },
        "id": "t-xB1zK0C0mG",
        "outputId": "55e6e9e5-cc25-49c9-95b8-33cce492350f",
        "scrolled": true
      },
      "outputs": [
        {
          "output_type": "execute_result",
          "data": {
            "text/plain": [
              "(3201, 7)"
            ]
          },
          "metadata": {},
          "execution_count": 7
        }
      ],
      "source": [
        "df.shape"
      ]
    },
    {
      "cell_type": "code",
      "execution_count": 8,
      "metadata": {
        "colab": {
          "base_uri": "https://localhost:8080/",
          "height": 514
        },
        "id": "4XyoR5lG3Jxv",
        "outputId": "d87061ab-4382-4483-f678-3923e955573c"
      },
      "outputs": [
        {
          "output_type": "execute_result",
          "data": {
            "text/plain": [
              "Text(0, 0.5, 'Close Price (USD)')"
            ]
          },
          "metadata": {},
          "execution_count": 8
        },
        {
          "output_type": "display_data",
          "data": {
            "text/plain": [
              "<Figure size 1008x576 with 1 Axes>"
            ],
            "image/png": "[encoded data removed]"
          },
          "metadata": {}
        }
      ],
      "source": [
        "ax = df.plot(x='Date', y='Close');\n",
        "ax.set_xlabel(\"Date\")\n",
        "ax.set_ylabel(\"Close Price (USD)\")"
      ]
    },
    {
      "cell_type": "markdown",
      "metadata": {
        "id": "7twAH-I-qO9Z"
      },
      "source": [
        "# Normalization"
      ]
    },
    {
      "cell_type": "code",
      "execution_count": 9,
      "metadata": {
        "id": "Ux2FtgMAqObq"
      },
      "outputs": [],
      "source": [
        "scaler = MinMaxScaler()\n",
        "\n",
        "close_price = df.Close.values.reshape(-1, 1)\n",
        "\n",
        "scaled_close = scaler.fit_transform(close_price)"
      ]
    },
    {
      "cell_type": "code",
      "execution_count": 10,
      "metadata": {
        "colab": {
          "base_uri": "https://localhost:8080/"
        },
        "id": "UprkaMWFvQOG",
        "outputId": "e72bc4a6-b36e-4e80-9c59-09f66a9d984e"
      },
      "outputs": [
        {
          "output_type": "execute_result",
          "data": {
            "text/plain": [
              "(3201, 1)"
            ]
          },
          "metadata": {},
          "execution_count": 10
        }
      ],
      "source": [
        "scaled_close.shape"
      ]
    },
    {
      "cell_type": "code",
      "execution_count": 11,
      "metadata": {
        "colab": {
          "base_uri": "https://localhost:8080/"
        },
        "id": "qOg2HX9AuTk-",
        "outputId": "f1a909cd-1668-4f50-fd25-8ec75af124fa"
      },
      "outputs": [
        {
          "output_type": "execute_result",
          "data": {
            "text/plain": [
              "False"
            ]
          },
          "metadata": {},
          "execution_count": 11
        }
      ],
      "source": [
        "np.isnan(scaled_close).any()"
      ]
    },
    {
      "cell_type": "code",
      "execution_count": 12,
      "metadata": {
        "id": "evHUrll9ukht"
      },
      "outputs": [],
      "source": [
        "scaled_close = scaled_close[~np.isnan(scaled_close)]"
      ]
    },
    {
      "cell_type": "code",
      "execution_count": 13,
      "metadata": {
        "id": "gCyOvwnqvTSw"
      },
      "outputs": [],
      "source": [
        "scaled_close = scaled_close.reshape(-1, 1)"
      ]
    },
    {
      "cell_type": "code",
      "execution_count": 14,
      "metadata": {
        "colab": {
          "base_uri": "https://localhost:8080/"
        },
        "id": "eSJxuT3-u6K2",
        "outputId": "3620c730-9495-4f8c-ed6d-bcb1c959712d"
      },
      "outputs": [
        {
          "output_type": "execute_result",
          "data": {
            "text/plain": [
              "False"
            ]
          },
          "metadata": {},
          "execution_count": 14
        }
      ],
      "source": [
        "np.isnan(scaled_close).any()"
      ]
    },
    {
      "cell_type": "markdown",
      "metadata": {
        "id": "CQgrA2va4Jzx"
      },
      "source": [
        "# Preprocessing"
      ]
    },
    {
      "cell_type": "code",
      "execution_count": 15,
      "metadata": {
        "id": "NS5O4-Vtq-N1"
      },
      "outputs": [],
      "source": [
        "SEQ_LEN = 100\n",
        "\n",
        "def to_sequences(data, seq_len):\n",
        "    d = []\n",
        "\n",
        "    for index in range(len(data) - seq_len):\n",
        "        d.append(data[index: index + seq_len])\n",
        "\n",
        "    return np.array(d)\n",
        "\n",
        "def preprocess(data_raw, seq_len, train_split):\n",
        "\n",
        "    data = to_sequences(data_raw, seq_len)\n",
        "\n",
        "    num_train = int(train_split * data.shape[0])\n",
        "\n",
        "    X_train = data[:num_train, :-1, :]\n",
        "    y_train = data[:num_train, -1, :]\n",
        "\n",
        "    X_test = data[num_train:, :-1, :]\n",
        "    y_test = data[num_train:, -1, :]\n",
        "\n",
        "    return X_train, y_train, X_test, y_test\n",
        "\n",
        "\n",
        "X_train, y_train, X_test, y_test = preprocess(scaled_close, SEQ_LEN, train_split = 0.95)"
      ]
    },
    {
      "cell_type": "code",
      "execution_count": 16,
      "metadata": {
        "colab": {
          "base_uri": "https://localhost:8080/"
        },
        "id": "XNBTUeaXreni",
        "outputId": "7d10fb5a-6cb4-4b48-a747-94e46fe56473"
      },
      "outputs": [
        {
          "output_type": "execute_result",
          "data": {
            "text/plain": [
              "(2945, 99, 1)"
            ]
          },
          "metadata": {},
          "execution_count": 16
        }
      ],
      "source": [
        "X_train.shape"
      ]
    },
    {
      "cell_type": "code",
      "execution_count": 17,
      "metadata": {
        "colab": {
          "base_uri": "https://localhost:8080/"
        },
        "id": "4IOoiN3pUUgO",
        "outputId": "51d7c5e4-f377-42e9-aaa3-9cb52889ebc4"
      },
      "outputs": [
        {
          "output_type": "execute_result",
          "data": {
            "text/plain": [
              "(156, 99, 1)"
            ]
          },
          "metadata": {},
          "execution_count": 17
        }
      ],
      "source": [
        "X_test.shape"
      ]
    },
    {
      "cell_type": "markdown",
      "metadata": {
        "id": "Yhhv26c34YTW"
      },
      "source": [
        "# Model"
      ]
    },
    {
      "cell_type": "code",
      "execution_count": 18,
      "metadata": {
        "id": "a3dw5qTasJoy"
      },
      "outputs": [],
      "source": [
        "DROPOUT = 0.2\n",
        "## drops out some nodes of the network here 20% of nodes are dropout to avoid overfitting.\n",
        "\n",
        "WINDOW_SIZE = SEQ_LEN - 1\n",
        "\n",
        "model = keras.Sequential()\n",
        "##Implements the sequential model approach.\n",
        "\n",
        "model.add(Bidirectional(LSTM(WINDOW_SIZE, return_sequences=True),\n",
        "                        input_shape=(WINDOW_SIZE, X_train.shape[-1])))\n",
        "##Showing the bidirectional nature of LSTM showing both direction Backward(future to past) or Forward(past to future).\n",
        "\n",
        "model.add(Dropout(rate=DROPOUT))\n",
        "##  Dropout is a technique where randomly selected neurons are ignored during training.\n",
        "\n",
        "\n",
        "model.add(Bidirectional(LSTM((WINDOW_SIZE * 2), return_sequences=True)))\n",
        " ## WindOW_SIZE-----------used to set the size of the  window.\n",
        "model.add(Dropout(rate=DROPOUT))\n",
        "\n",
        "model.add(Bidirectional(LSTM(WINDOW_SIZE, return_sequences=False)))\n",
        "\n",
        "model.add(Dense(units=1))                  #To add a hidden layer\n",
        "\n",
        "model.add(Activation('linear'))            # Add linear Activation fuction "
      ]
    },
    {
      "cell_type": "markdown",
      "metadata": {
        "id": "pjBan-K27L8d"
      },
      "source": [
        "# Training"
      ]
    },
    {
      "cell_type": "code",
      "execution_count": 21,
      "metadata": {
        "id": "zvc-LMgOHkWJ"
      },
      "outputs": [],
      "source": [
        "model.compile(\n",
        "    loss='mse', \n",
        "    optimizer='adam',\n",
        ")"
      ]
    },
    {
      "cell_type": "code",
      "execution_count": 22,
      "metadata": {
        "colab": {
          "base_uri": "https://localhost:8080/"
        },
        "id": "m1aU2xDvsvrN",
        "outputId": "dc725c96-e615-4ea6-f128-6e24e61fce49"
      },
      "outputs": [
        {
          "output_type": "stream",
          "name": "stdout",
          "text": [
            "Epoch 1/5\n",
            "42/42 [==============================] - 11s 87ms/step - loss: 0.0011 - val_loss: 0.0336\n",
            "Epoch 2/5\n",
            "42/42 [==============================] - 2s 48ms/step - loss: 0.0071 - val_loss: 0.0029\n",
            "Epoch 3/5\n",
            "42/42 [==============================] - 2s 54ms/step - loss: 0.0128 - val_loss: 0.0289\n",
            "Epoch 4/5\n",
            "42/42 [==============================] - 2s 41ms/step - loss: 0.0048 - val_loss: 0.0047\n",
            "Epoch 5/5\n",
            "42/42 [==============================] - 2s 42ms/step - loss: 0.0037 - val_loss: 0.0062\n"
          ]
        }
      ],
      "source": [
        "BATCH_SIZE = 64\n",
        "\n",
        "history = model.fit(\n",
        "    X_train, \n",
        "    y_train, \n",
        "    epochs=5, \n",
        "    batch_size=BATCH_SIZE, \n",
        "    shuffle=False,\n",
        "    validation_split=0.1\n",
        ")"
      ]
    },
    {
      "cell_type": "code",
      "execution_count": 23,
      "metadata": {
        "colab": {
          "base_uri": "https://localhost:8080/"
        },
        "id": "L9JumIeP40xv",
        "outputId": "b0194133-2493-48ab-8459-a0ef0c036f98"
      },
      "outputs": [
        {
          "output_type": "stream",
          "name": "stdout",
          "text": [
            "5/5 [==============================] - 0s 25ms/step - loss: 0.0040\n"
          ]
        },
        {
          "output_type": "execute_result",
          "data": {
            "text/plain": [
              "0.003951031714677811"
            ]
          },
          "metadata": {},
          "execution_count": 23
        }
      ],
      "source": [
        "model.evaluate(X_test, y_test)"
      ]
    },
    {
      "cell_type": "code",
      "execution_count": 29,
      "metadata": {
        "colab": {
          "base_uri": "https://localhost:8080/",
          "height": 535
        },
        "id": "2_9ibR1e5DnQ",
        "outputId": "c922a345-e14e-485e-b9e5-f1cf14fd7885"
      },
      "outputs": [
        {
          "output_type": "display_data",
          "data": {
            "text/plain": [
              "<Figure size 1008x576 with 1 Axes>"
            ],
            "image/png": "[encoded data removed]"
          },
          "metadata": {}
        }
      ],
      "source": [
        "plt.plot(history.history['loss'])\n",
        "plt.plot(history.history['val_loss'])\n",
        "plt.title('Reduction function')\n",
        "plt.ylabel('loss')\n",
        "plt.xlabel('epoch')\n",
        "plt.legend(['train', 'test'], loc='upper left')\n",
        "plt.show()"
      ]
    },
    {
      "cell_type": "markdown",
      "metadata": {
        "id": "Xf9STH2D4_hP"
      },
      "source": [
        "# Prediction"
      ]
    },
    {
      "cell_type": "code",
      "execution_count": 30,
      "metadata": {
        "colab": {
          "base_uri": "https://localhost:8080/",
          "height": 1000
        },
        "id": "Lui1XTi0xVsF",
        "outputId": "c0e0954a-59d8-4e42-c950-ac49aa62ac45"
      },
      "outputs": [
        {
          "output_type": "stream",
          "name": "stdout",
          "text": [
            "[[5586.27002 ]\n",
            " [5568.939941]\n",
            " [5615.259766]\n",
            " [4809.620117]\n",
            " [4441.810059]\n",
            " [4593.040039]\n",
            " [4320.680176]\n",
            " [4343.419922]\n",
            " [3854.110107]\n",
            " [4004.149902]\n",
            " [3784.590088]\n",
            " [3822.98999 ]\n",
            " [4263.549805]\n",
            " [4286.689941]\n",
            " [4009.669922]\n",
            " [4197.459961]\n",
            " [4143.859863]\n",
            " [3871.409912]\n",
            " [3948.439941]\n",
            " [3737.530029]\n",
            " [3485.179932]\n",
            " [3420.570068]\n",
            " [3461.070068]\n",
            " [3592.840088]\n",
            " [3467.159912]\n",
            " [3401.02002 ]\n",
            " [3485.590088]\n",
            " [3305.110107]\n",
            " [3235.47998 ]\n",
            " [3232.51001 ]\n",
            " [3255.370117]\n",
            " [3548.189941]\n",
            " [3715.850098]\n",
            " [3736.540039]\n",
            " [4137.660156]\n",
            " [3898.810059]\n",
            " [4045.23999 ]\n",
            " [4007.629883]\n",
            " [4081.949951]\n",
            " [3834.72998 ]\n",
            " [3848.780029]\n",
            " [3646.090088]\n",
            " [3947.860107]\n",
            " [3797.060059]\n",
            " [3896.209961]\n",
            " [3747.389893]\n",
            " [3880.149902]\n",
            " [3961.01001 ]\n",
            " [3835.860107]\n",
            " [3874.060059]\n",
            " [3855.389893]\n",
            " [4102.850098]\n",
            " [4050.399902]\n",
            " [4040.75    ]\n",
            " [4048.340088]\n",
            " [3668.149902]\n",
            " [3669.199951]\n",
            " [3664.379883]\n",
            " [3551.23999 ]\n",
            " [3703.899902]\n",
            " [3621.23999 ]\n",
            " [3643.98999 ]\n",
            " [3685.300049]\n",
            " [3648.050049]\n",
            " [3729.780029]\n",
            " [3567.72998 ]\n",
            " [3571.919922]\n",
            " [3602.040039]\n",
            " [3572.050049]\n",
            " [3598.52002 ]\n",
            " [3582.889893]\n",
            " [3596.5     ]\n",
            " [3565.080078]\n",
            " [3453.419922]\n",
            " [3418.25    ]\n",
            " [3467.209961]\n",
            " [3434.129883]\n",
            " [3461.629883]\n",
            " [3508.679932]\n",
            " [3449.620117]\n",
            " [3431.23999 ]\n",
            " [3447.659912]\n",
            " [3394.889893]\n",
            " [3375.330078]\n",
            " [3660.030029]\n",
            " [3652.26001 ]\n",
            " [3685.139893]\n",
            " [3611.340088]\n",
            " [3617.409912]\n",
            " [3605.870117]\n",
            " [3588.719971]\n",
            " [3593.48999 ]\n",
            " [3617.23999 ]\n",
            " [3670.919922]\n",
            " [3912.570068]\n",
            " [3924.23999 ]\n",
            " [3974.050049]\n",
            " [3937.040039]\n",
            " [3983.530029]\n",
            " [4149.089844]\n",
            " [3771.620117]\n",
            " [3845.51001 ]\n",
            " [3817.879883]\n",
            " [3830.719971]\n",
            " [3823.370117]\n",
            " [3831.47998 ]\n",
            " [3842.939941]\n",
            " [3812.310059]\n",
            " [3731.280029]\n",
            " [3874.179932]\n",
            " [3874.97998 ]\n",
            " [3882.610107]\n",
            " [3868.02002 ]\n",
            " [3947.73999 ]\n",
            " [3929.840088]\n",
            " [3874.889893]\n",
            " [3888.570068]\n",
            " [3878.439941]\n",
            " [3881.439941]\n",
            " [3927.080078]\n",
            " [4027.01001 ]\n",
            " [3998.      ]\n",
            " [3988.850098]\n",
            " [4024.139893]\n",
            " [4056.75    ]\n",
            " [3996.929932]\n",
            " [4000.840088]\n",
            " [4007.209961]\n",
            " [3994.110107]\n",
            " [3924.550049]\n",
            " [3942.219971]\n",
            " [4045.97998 ]\n",
            " [4036.449951]\n",
            " [4111.379883]\n",
            " [4118.129883]\n",
            " [4112.689941]\n",
            " [4151.319824]\n",
            " [4906.930176]\n",
            " [4976.589844]\n",
            " [4913.359863]\n",
            " [5047.22998 ]\n",
            " [5057.25    ]\n",
            " [5201.160156]\n",
            " [5294.089844]\n",
            " [5201.299805]\n",
            " [5318.600098]\n",
            " [5048.560059]\n",
            " [5081.5     ]\n",
            " [5080.660156]\n",
            " [5165.589844]\n",
            " [5037.27002 ]\n",
            " [5212.810059]\n",
            " [5236.259766]\n",
            " [5289.75    ]\n",
            " [5295.529785]\n",
            " [5326.180176]]\n",
            "[[7018.2344]\n",
            " [6922.511 ]\n",
            " [6834.3623]\n",
            " [6752.677 ]\n",
            " [6616.7163]\n",
            " [6449.6143]\n",
            " [6294.6147]\n",
            " [6130.7007]\n",
            " [5983.07  ]\n",
            " [5815.883 ]\n",
            " [5682.7334]\n",
            " [5557.7334]\n",
            " [5464.1055]\n",
            " [5424.513 ]\n",
            " [5421.995 ]\n",
            " [5418.683 ]\n",
            " [5437.3716]\n",
            " [5461.8237]\n",
            " [5468.3296]\n",
            " [5468.4043]\n",
            " [5442.012 ]\n",
            " [5385.505 ]\n",
            " [5310.222 ]\n",
            " [5226.7803]\n",
            " [5147.184 ]\n",
            " [5063.025 ]\n",
            " [4983.0825]\n",
            " [4918.941 ]\n",
            " [4869.7383]\n",
            " [4826.446 ]\n",
            " [4790.9272]\n",
            " [4767.282 ]\n",
            " [4770.5483]\n",
            " [4796.6284]\n",
            " [4836.2534]\n",
            " [4912.544 ]\n",
            " [4978.387 ]\n",
            " [5054.8223]\n",
            " [5126.3184]\n",
            " [5197.7324]\n",
            " [5246.8213]\n",
            " [5278.456 ]\n",
            " [5279.394 ]\n",
            " [5286.536 ]\n",
            " [5274.3413]\n",
            " [5267.671 ]\n",
            " [5250.878 ]\n",
            " [5245.0547]\n",
            " [5250.2935]\n",
            " [5247.723 ]\n",
            " [5242.6807]\n",
            " [5238.6807]\n",
            " [5254.7524]\n",
            " [5271.1797]\n",
            " [5287.874 ]\n",
            " [5304.4297]\n",
            " [5288.454 ]\n",
            " [5258.7153]\n",
            " [5220.8984]\n",
            " [5173.0864]\n",
            " [5136.046 ]\n",
            " [5098.478 ]\n",
            " [5069.674 ]\n",
            " [5053.013 ]\n",
            " [5048.2944]\n",
            " [5051.7344]\n",
            " [5045.678 ]\n",
            " [5037.8164]\n",
            " [5024.696 ]\n",
            " [5011.9277]\n",
            " [5002.3613]\n",
            " [4994.632 ]\n",
            " [4988.4014]\n",
            " [4979.527 ]\n",
            " [4961.319 ]\n",
            " [4938.883 ]\n",
            " [4919.4272]\n",
            " [4899.283 ]\n",
            " [4884.0713]\n",
            " [4876.964 ]\n",
            " [4870.962 ]\n",
            " [4867.903 ]\n",
            " [4872.887 ]\n",
            " [4876.5425]\n",
            " [4878.7183]\n",
            " [4902.1025]\n",
            " [4930.1   ]\n",
            " [4962.028 ]\n",
            " [4984.387 ]\n",
            " [5001.203 ]\n",
            " [5007.3853]\n",
            " [5000.8877]\n",
            " [4984.996 ]\n",
            " [4960.284 ]\n",
            " [4928.099 ]\n",
            " [4905.5674]\n",
            " [4882.1055]\n",
            " [4859.7163]\n",
            " [4842.797 ]\n",
            " [4823.647 ]\n",
            " [4813.776 ]\n",
            " [4776.208 ]\n",
            " [4738.194 ]\n",
            " [4715.0405]\n",
            " [4698.595 ]\n",
            " [4678.44  ]\n",
            " [4666.624 ]\n",
            " [4656.93  ]\n",
            " [4655.4707]\n",
            " [4640.968 ]\n",
            " [4636.0815]\n",
            " [4626.6655]\n",
            " [4605.365 ]\n",
            " [4581.598 ]\n",
            " [4568.2583]\n",
            " [4549.62  ]\n",
            " [4528.5884]\n",
            " [4513.63  ]\n",
            " [4496.172 ]\n",
            " [4484.125 ]\n",
            " [4481.28  ]\n",
            " [4488.8716]\n",
            " [4497.7515]\n",
            " [4507.69  ]\n",
            " [4528.114 ]\n",
            " [4557.627 ]\n",
            " [4585.55  ]\n",
            " [4619.012 ]\n",
            " [4653.0425]\n",
            " [4682.3765]\n",
            " [4699.873 ]\n",
            " [4704.8906]\n",
            " [4709.3154]\n",
            " [4711.0293]\n",
            " [4709.366 ]\n",
            " [4715.705 ]\n",
            " [4719.9863]\n",
            " [4729.883 ]\n",
            " [4799.595 ]\n",
            " [4897.4053]\n",
            " [4998.1533]\n",
            " [5111.5825]\n",
            " [5214.5464]\n",
            " [5322.9546]\n",
            " [5426.288 ]\n",
            " [5513.186 ]\n",
            " [5588.535 ]\n",
            " [5625.7466]\n",
            " [5646.619 ]\n",
            " [5649.039 ]\n",
            " [5645.036 ]\n",
            " [5618.9375]\n",
            " [5602.5225]\n",
            " [5590.6196]\n",
            " [5586.8228]\n",
            " [5595.719 ]]\n"
          ]
        },
        {
          "output_type": "display_data",
          "data": {
            "text/plain": [
              "<Figure size 1008x576 with 1 Axes>"
            ],
            "image/png": "[encoded data removed]"
          },
          "metadata": {}
        }
      ],
      "source": [
        "y_hat = model.predict(X_test)\n",
        "\n",
        "y_test_inverse = scaler.inverse_transform(y_test)\n",
        "y_hat_inverse = scaler.inverse_transform(y_hat)\n",
        "\n",
        "print(y_test_inverse) \n",
        "print(y_hat_inverse)\n",
        "plt.plot(y_test_inverse, label=\"Actual Price\", color='green')\n",
        "plt.plot(y_hat_inverse, label=\"Predicted Price\", color='red')\n",
        "\n",
        "plt.title('Bitcoin price prediction')\n",
        "plt.xlabel('Time [days]')\n",
        "plt.ylabel('Price')\n",
        "plt.legend(loc='best')\n",
        " \n",
        "plt.show();"
      ]
    },
    {
      "cell_type": "code",
      "execution_count": 33,
      "metadata": {
        "id": "ak-CiQAVz4Fw",
        "colab": {
          "base_uri": "https://localhost:8080/",
          "height": 293
        },
        "outputId": "b044d033-a013-4e0f-d985-f9c9596fbdab"
      },
      "outputs": [
        {
          "output_type": "error",
          "ename": "NameError",
          "evalue": "ignored",
          "traceback": [
            "\u001b[0;31m---------------------------------------------------------------------------\u001b[0m",
            "\u001b[0;31mNameError\u001b[0m                                 Traceback (most recent call last)",
            "\u001b[0;32m<ipython-input-33-70d4c5635b92>\u001b[0m in \u001b[0;36m<module>\u001b[0;34m()\u001b[0m\n\u001b[1;32m      3\u001b[0m \u001b[0;32mimport\u001b[0m \u001b[0mnumpy\u001b[0m \u001b[0;32mas\u001b[0m \u001b[0mnp\u001b[0m\u001b[0;34m\u001b[0m\u001b[0;34m\u001b[0m\u001b[0m\n\u001b[1;32m      4\u001b[0m \u001b[0;31m#remove_nan_targets = targets.dropna()\u001b[0m\u001b[0;34m\u001b[0m\u001b[0;34m\u001b[0m\u001b[0;34m\u001b[0m\u001b[0m\n\u001b[0;32m----> 5\u001b[0;31m \u001b[0minvestmentvalue\u001b[0m\u001b[0;34m=\u001b[0m\u001b[0mremove_nan_targets\u001b[0m\u001b[0;34m.\u001b[0m\u001b[0miloc\u001b[0m\u001b[0;34m[\u001b[0m\u001b[0;36m0\u001b[0m\u001b[0;34m]\u001b[0m\u001b[0;34m\u001b[0m\u001b[0;34m\u001b[0m\u001b[0m\n\u001b[0m\u001b[1;32m      6\u001b[0m \u001b[0moldarray\u001b[0m \u001b[0;34m=\u001b[0m \u001b[0mnp\u001b[0m\u001b[0;34m.\u001b[0m\u001b[0marray\u001b[0m\u001b[0;34m(\u001b[0m\u001b[0;34m[\u001b[0m\u001b[0;36m0\u001b[0m\u001b[0;34m]\u001b[0m\u001b[0;34m)\u001b[0m\u001b[0;34m\u001b[0m\u001b[0;34m\u001b[0m\u001b[0m\n\u001b[1;32m      7\u001b[0m \u001b[0;32mfor\u001b[0m \u001b[0mvalue\u001b[0m \u001b[0;32min\u001b[0m \u001b[0mremove_nan_targets\u001b[0m\u001b[0;34m.\u001b[0m\u001b[0mitems\u001b[0m\u001b[0;34m(\u001b[0m\u001b[0;34m)\u001b[0m\u001b[0;34m:\u001b[0m\u001b[0;34m\u001b[0m\u001b[0;34m\u001b[0m\u001b[0m\n",
            "\u001b[0;31mNameError\u001b[0m: name 'remove_nan_targets' is not defined"
          ]
        }
      ],
      "source": [
        "from matplotlib.image import PcolorImage\n",
        "import matplotlib.pyplot as plt\n",
        "import numpy as np\n",
        "#remove_nan_targets = targets.dropna()\n",
        "investmentvalue=remove_nan_targets.iloc[0]\n",
        "oldarray = np.array([0])\n",
        "for value in remove_nan_targets.items():\n",
        "    pc=(investmentvalue/value[1])/100\n",
        "    ypoints = np.append(oldarray, pc)\n",
        "    print(pc)\n",
        "    print(ypoints)\n",
        "plt.title('Growth')\n",
        "plt.xlabel('Growth Percentage')\n",
        "plt.ylabel('Growth Value')\n",
        "plt.plot(ypoints, linestyle = 'dashed')\n",
        "plt.show()\n"
      ]
    },
    {
      "cell_type": "code",
      "execution_count": null,
      "metadata": {
        "id": "Vwbi00m4p9i0"
      },
      "outputs": [],
      "source": [
        ""
      ]
    },
    {
      "cell_type": "code",
      "execution_count": null,
      "metadata": {
        "id": "9rqst7TZp9i0"
      },
      "outputs": [],
      "source": [
        ""
      ]
    }
  ],
  "metadata": {
    "accelerator": "GPU",
    "colab": {
      "collapsed_sections": [],
      "name": "Bitcoin_Comparison.ipynb",
      "provenance": []
    },
    "kernelspec": {
      "display_name": "Python 3 (ipykernel)",
      "language": "python",
      "name": "python3"
    },
    "language_info": {
      "codemirror_mode": {
        "name": "ipython",
        "version": 3
      },
      "file_extension": ".py",
      "mimetype": "text/x-python",
      "name": "python",
      "nbconvert_exporter": "python",
      "pygments_lexer": "ipython3",
      "version": "3.9.6"
    }
  },
  "nbformat": 4,
  "nbformat_minor": 0
}