{
 "cells": [
  {
   "cell_type": "code",
   "execution_count": 2,
   "metadata": {
    "id": "NeWVBhf1VxlH"
   },
   "outputs": [],
   "source": [
    "import json\n",
    "import requests\n",
    "from keras.models import Sequential\n",
    "from keras.layers import Activation, Dense, Dropout\n",
    "from keras.layers import LSTM as CSLstM\n",
    "import matplotlib.pyplot as plt\n",
    "import numpy as np\n",
    "import pandas as pd\n",
    "import seaborn as sns\n",
    "import pickle\n",
    "from sklearn.metrics import mean_absolute_error\n",
    "%matplotlib inline"
   ]
  },
  {
   "cell_type": "code",
   "execution_count": 3,
   "metadata": {
    "_cell_guid": "79c7e3d0-c299-4dcb-8224-4455121ee9b0",
    "_uuid": "d629ff2d2480ee46fbb7e2d37f6b5fab8052498a",
    "id": "6W__OM92pskF"
   },
   "outputs": [],
   "source": [
    "endpoint = 'https://min-api.cryptocompare.com/data/histoday'\n",
    "res = requests.get(endpoint + '?fsym=BNB&tsym=USD&limit=500')\n",
    "hist = pd.DataFrame(json.loads(res.content)['Data'])\n",
    "#hist.to_csv('binanace1.csv')\n",
    "hist = hist.set_index('time')  #retrieve time index\n",
    "hist.index = pd.to_datetime(hist.index, unit='s') #convert time to date \n",
    "target_col = 'close'"
   ]
  },
  {
   "cell_type": "code",
   "execution_count": 4,
   "metadata": {
    "id": "IJ81oAj4sw6x"
   },
   "outputs": [],
   "source": [
    "hist.drop([\"conversionType\", \"conversionSymbol\"], axis = 'columns', inplace = True)  #remove conversionType and conversionSymbol"
   ]
  },
  {
   "cell_type": "code",
   "execution_count": 5,
   "metadata": {
    "colab": {
     "base_uri": "https://localhost:8080/",
     "height": 235
    },
    "id": "QQ9tRh3fs6wX",
    "outputId": "5ad8641b-9d99-49c8-e6d4-a927d5a1d84e"
   },
   "outputs": [
    {
     "data": {
      "text/html": [
       "<div>\n",
       "<style scoped>\n",
       "    .dataframe tbody tr th:only-of-type {\n",
       "        vertical-align: middle;\n",
       "    }\n",
       "\n",
       "    .dataframe tbody tr th {\n",
       "        vertical-align: top;\n",
       "    }\n",
       "\n",
       "    .dataframe thead th {\n",
       "        text-align: right;\n",
       "    }\n",
       "</style>\n",
       "<table border=\"1\" class=\"dataframe\">\n",
       "  <thead>\n",
       "    <tr style=\"text-align: right;\">\n",
       "      <th></th>\n",
       "      <th>high</th>\n",
       "      <th>low</th>\n",
       "      <th>open</th>\n",
       "      <th>volumefrom</th>\n",
       "      <th>volumeto</th>\n",
       "      <th>close</th>\n",
       "    </tr>\n",
       "    <tr>\n",
       "      <th>time</th>\n",
       "      <th></th>\n",
       "      <th></th>\n",
       "      <th></th>\n",
       "      <th></th>\n",
       "      <th></th>\n",
       "      <th></th>\n",
       "    </tr>\n",
       "  </thead>\n",
       "  <tbody>\n",
       "    <tr>\n",
       "      <th>2020-12-29</th>\n",
       "      <td>41.12</td>\n",
       "      <td>36.14</td>\n",
       "      <td>35.88</td>\n",
       "      <td>1383969.53</td>\n",
       "      <td>54035475.29</td>\n",
       "      <td>39.04</td>\n",
       "    </tr>\n",
       "    <tr>\n",
       "      <th>2020-12-30</th>\n",
       "      <td>41.28</td>\n",
       "      <td>36.46</td>\n",
       "      <td>39.04</td>\n",
       "      <td>863778.18</td>\n",
       "      <td>32939563.47</td>\n",
       "      <td>38.13</td>\n",
       "    </tr>\n",
       "    <tr>\n",
       "      <th>2020-12-31</th>\n",
       "      <td>38.33</td>\n",
       "      <td>36.82</td>\n",
       "      <td>38.13</td>\n",
       "      <td>568025.59</td>\n",
       "      <td>21246070.40</td>\n",
       "      <td>37.40</td>\n",
       "    </tr>\n",
       "    <tr>\n",
       "      <th>2021-01-01</th>\n",
       "      <td>39.15</td>\n",
       "      <td>37.50</td>\n",
       "      <td>37.40</td>\n",
       "      <td>667116.36</td>\n",
       "      <td>25193507.84</td>\n",
       "      <td>37.76</td>\n",
       "    </tr>\n",
       "    <tr>\n",
       "      <th>2021-01-02</th>\n",
       "      <td>41.48</td>\n",
       "      <td>36.81</td>\n",
       "      <td>37.76</td>\n",
       "      <td>900235.92</td>\n",
       "      <td>34470148.57</td>\n",
       "      <td>38.29</td>\n",
       "    </tr>\n",
       "  </tbody>\n",
       "</table>\n",
       "</div>"
      ],
      "text/plain": [
       "             high    low   open  volumefrom     volumeto  close\n",
       "time                                                           \n",
       "2020-12-29  41.12  36.14  35.88  1383969.53  54035475.29  39.04\n",
       "2020-12-30  41.28  36.46  39.04   863778.18  32939563.47  38.13\n",
       "2020-12-31  38.33  36.82  38.13   568025.59  21246070.40  37.40\n",
       "2021-01-01  39.15  37.50  37.40   667116.36  25193507.84  37.76\n",
       "2021-01-02  41.48  36.81  37.76   900235.92  34470148.57  38.29"
      ]
     },
     "execution_count": 5,
     "metadata": {},
     "output_type": "execute_result"
    }
   ],
   "source": [
    "hist.head(5)"
   ]
  },
  {
   "cell_type": "code",
   "execution_count": 6,
   "metadata": {
    "id": "0Ykh8CHfpskJ"
   },
   "outputs": [],
   "source": [
    "def train_test_split(df, test_size=0.2):\n",
    "    split_row = len(df) - int(test_size * len(df))\n",
    "    train_data = df.iloc[:split_row]\n",
    "    test_data = df.iloc[split_row:]\n",
    "    return train_data, test_data"
   ]
  },
  {
   "cell_type": "code",
   "execution_count": 7,
   "metadata": {
    "id": "PWKGJlxIpskM"
   },
   "outputs": [
    {
     "name": "stdout",
     "output_type": "stream",
     "text": [
      "\n",
      "---\n",
      "\n"
     ]
    }
   ],
   "source": [
    "train, test = train_test_split(hist, test_size=0.2)  #get test and train data\n",
    "print(\"\")\n",
    "print(\"---\")\n",
    "print(\"\")"
   ]
  },
  {
   "cell_type": "code",
   "execution_count": 8,
   "metadata": {
    "id": "jqfrJbQhpskP"
   },
   "outputs": [],
   "source": [
    "def line_plot(line1, line2, label1=None, label2=None, title='', lw=2):\n",
    "    fig, ax = plt.subplots(1, figsize=(13, 7))\n",
    "    ax.plot(line1, label=label1, linewidth=lw)\n",
    "    ax.plot(line2, label=label2, linewidth=lw)\n",
    "    ax.set_ylabel('price [USD]', fontsize=14)\n",
    "    ax.set_title(title, fontsize=16)\n",
    "    ax.legend(loc='best', fontsize=16);"
   ]
  },
  {
   "cell_type": "code",
   "execution_count": 9,
   "metadata": {
    "colab": {
     "base_uri": "https://localhost:8080/",
     "height": 428
    },
    "id": "9F_YTCCxpskS",
    "outputId": "b775e163-be1f-4ea4-869c-4beea7552607"
   },
   "outputs": [
    {
     "data": {
      "image/png": "[encoded data removed]",
      "text/plain": [
       "<Figure size 936x504 with 1 Axes>"
      ]
     },
     "metadata": {
      "needs_background": "light"
     },
     "output_type": "display_data"
    }
   ],
   "source": [
    "line_plot(train[target_col], test[target_col], 'training', 'test', title='')"
   ]
  },
  {
   "cell_type": "code",
   "execution_count": 10,
   "metadata": {
    "id": "iy-je3_bpskb"
   },
   "outputs": [],
   "source": [
    "def normalise_zero_base(df):\n",
    "    return df / df.iloc[0] - 1\n",
    "\n",
    "def normalise_min_max(df):\n",
    "    return (df - df.min()) / (data.max() - df.min())"
   ]
  },
  {
   "cell_type": "code",
   "execution_count": 11,
   "metadata": {
    "id": "zteL5amIpskh"
   },
   "outputs": [],
   "source": [
    "def extract_window_data(df, window_len=5, zero_base=True):\n",
    "    window_data = []\n",
    "    for idx in range(len(df) - window_len):\n",
    "        tmp = df[idx: (idx + window_len)].copy()\n",
    "        if zero_base:\n",
    "            tmp = normalise_zero_base(tmp)\n",
    "        window_data.append(tmp.values)\n",
    "    return np.array(window_data)"
   ]
  },
  {
   "cell_type": "code",
   "execution_count": 12,
   "metadata": {
    "id": "aTBbhnezpskk"
   },
   "outputs": [],
   "source": [
    "def prepare_data(df, target_col, window_len=10, zero_base=True, test_size=0.2):\n",
    "    train_data, test_data = train_test_split(df, test_size=test_size)\n",
    "    X_train = extract_window_data(train_data, window_len, zero_base)\n",
    "    X_test = extract_window_data(test_data, window_len, zero_base)\n",
    "    y_train = train_data[target_col][window_len:].values\n",
    "    y_test = test_data[target_col][window_len:].values\n",
    "    if zero_base:\n",
    "        y_train = y_train / train_data[target_col][:-window_len].values - 1\n",
    "        y_test = y_test / test_data[target_col][:-window_len].values - 1\n",
    "\n",
    "    return train_data, test_data, X_train, X_test, y_train, y_test"
   ]
  },
  {
   "cell_type": "code",
   "execution_count": 13,
   "metadata": {
    "id": "VjWtS2qJpskn"
   },
   "outputs": [],
   "source": [
    "def build_lstm_model(input_data, output_size, neurons=100, activ_func='linear',\n",
    "                     dropout=0.2, loss='mse', optimizer='adam'):\n",
    "    model = Sequential()\n",
    "    model.add(CSLstM(neurons, input_shape=(input_data.shape[1], input_data.shape[2])))\n",
    "    model.add(Dropout(dropout))\n",
    "    model.add(Dense(units=output_size))\n",
    "    model.add(Activation(activ_func))\n",
    "\n",
    "    model.compile(loss=loss, optimizer=optimizer)\n",
    "    return model"
   ]
  },
  {
   "cell_type": "code",
   "execution_count": 14,
   "metadata": {
    "id": "aADcao3Qpskq"
   },
   "outputs": [],
   "source": [
    "np.random.seed(42)\n",
    "window_len = 5\n",
    "test_size = 0.2\n",
    "zero_base = True\n",
    "lstm_neurons = 100\n",
    "epochs = 5\n",
    "batch_size = 32\n",
    "loss = 'mse'\n",
    "dropout = 0.2\n",
    "optimizer = 'adam'"
   ]
  },
  {
   "cell_type": "code",
   "execution_count": 38,
   "metadata": {
    "id": "rAw5VBtwpskt"
   },
   "outputs": [],
   "source": [
    "train, test, X_train, X_test, y_train, y_test = prepare_data(\n",
    "    hist, target_col, window_len=window_len, zero_base=zero_base, test_size=test_size)"
   ]
  },
  {
   "cell_type": "code",
   "execution_count": 16,
   "metadata": {
    "colab": {
     "base_uri": "https://localhost:8080/"
    },
    "id": "E5T9OAwQpskw",
    "outputId": "7621c21d-98df-48fc-e995-4e390f3e8351"
   },
   "outputs": [
    {
     "name": "stdout",
     "output_type": "stream",
     "text": [
      "Epoch 1/5\n",
      "13/13 [==============================] - 2s 38ms/step - loss: 0.0256 - val_loss: 0.0059\n",
      "Epoch 2/5\n",
      "13/13 [==============================] - 0s 7ms/step - loss: 0.0155 - val_loss: 0.0029\n",
      "Epoch 3/5\n",
      "13/13 [==============================] - 0s 7ms/step - loss: 0.0132 - val_loss: 0.0038\n",
      "Epoch 4/5\n",
      "13/13 [==============================] - 0s 7ms/step - loss: 0.0133 - val_loss: 0.0029\n",
      "Epoch 5/5\n",
      "13/13 [==============================] - 0s 7ms/step - loss: 0.0123 - val_loss: 0.0026\n"
     ]
    },
    {
     "name": "stderr",
     "output_type": "stream",
     "text": [
      "WARNING:absl:Found untraced functions such as lstm_cell_layer_call_fn, lstm_cell_layer_call_and_return_conditional_losses, lstm_cell_layer_call_fn, lstm_cell_layer_call_and_return_conditional_losses, lstm_cell_layer_call_and_return_conditional_losses while saving (showing 5 of 5). These functions will not be directly callable after loading.\n"
     ]
    },
    {
     "name": "stdout",
     "output_type": "stream",
     "text": [
      "INFO:tensorflow:Assets written to: ram://dc013393-78df-4318-806b-582e80a8b982/assets\n"
     ]
    },
    {
     "name": "stderr",
     "output_type": "stream",
     "text": [
      "INFO:tensorflow:Assets written to: ram://dc013393-78df-4318-806b-582e80a8b982/assets\n",
      "WARNING:absl:<keras.layers.recurrent.LSTMCell object at 0x000001306FB4C2E0> has the same name 'LSTMCell' as a built-in Keras object. Consider renaming <class 'keras.layers.recurrent.LSTMCell'> to avoid naming conflicts when loading with `tf.keras.models.load_model`. If renaming is not possible, pass the object in the `custom_objects` parameter of the load function.\n"
     ]
    },
    {
     "ename": "NotFoundError",
     "evalue": "",
     "output_type": "error",
     "traceback": [
      "\u001b[1;31m---------------------------------------------------------------------------\u001b[0m",
      "\u001b[1;31mNotFoundError\u001b[0m                             Traceback (most recent call last)",
      "\u001b[1;32m~\\AppData\\Local\\Temp/ipykernel_25004/3020347000.py\u001b[0m in \u001b[0;36m<module>\u001b[1;34m\u001b[0m\n\u001b[0;32m      6\u001b[0m \u001b[1;31m# save the model to disk\u001b[0m\u001b[1;33m\u001b[0m\u001b[1;33m\u001b[0m\u001b[1;33m\u001b[0m\u001b[0m\n\u001b[0;32m      7\u001b[0m \u001b[0mfilename\u001b[0m \u001b[1;33m=\u001b[0m \u001b[1;34m'binance.sav'\u001b[0m\u001b[1;33m\u001b[0m\u001b[1;33m\u001b[0m\u001b[0m\n\u001b[1;32m----> 8\u001b[1;33m \u001b[0mpickle\u001b[0m\u001b[1;33m.\u001b[0m\u001b[0mdump\u001b[0m\u001b[1;33m(\u001b[0m\u001b[0mmodel\u001b[0m\u001b[1;33m,\u001b[0m \u001b[0mopen\u001b[0m\u001b[1;33m(\u001b[0m\u001b[0mfilename\u001b[0m\u001b[1;33m,\u001b[0m \u001b[1;34m'wb'\u001b[0m\u001b[1;33m)\u001b[0m\u001b[1;33m)\u001b[0m\u001b[1;33m\u001b[0m\u001b[1;33m\u001b[0m\u001b[0m\n\u001b[0m",
      "\u001b[1;32mD:\\Python 3.9.6\\lib\\site-packages\\keras\\engine\\training.py\u001b[0m in \u001b[0;36m__reduce__\u001b[1;34m(self)\u001b[0m\n\u001b[0;32m    313\u001b[0m     \u001b[1;32mif\u001b[0m \u001b[0mself\u001b[0m\u001b[1;33m.\u001b[0m\u001b[0mbuilt\u001b[0m\u001b[1;33m:\u001b[0m\u001b[1;33m\u001b[0m\u001b[1;33m\u001b[0m\u001b[0m\n\u001b[0;32m    314\u001b[0m       return (pickle_utils.deserialize_model_from_bytecode,\n\u001b[1;32m--> 315\u001b[1;33m               pickle_utils.serialize_model_as_bytecode(self))\n\u001b[0m\u001b[0;32m    316\u001b[0m     \u001b[1;32melse\u001b[0m\u001b[1;33m:\u001b[0m\u001b[1;33m\u001b[0m\u001b[1;33m\u001b[0m\u001b[0m\n\u001b[0;32m    317\u001b[0m       \u001b[1;31m# SavedModel (and hence serialize_model_as_bytecode) only support\u001b[0m\u001b[1;33m\u001b[0m\u001b[1;33m\u001b[0m\u001b[1;33m\u001b[0m\u001b[0m\n",
      "\u001b[1;32mD:\\Python 3.9.6\\lib\\site-packages\\keras\\saving\\pickle_utils.py\u001b[0m in \u001b[0;36mserialize_model_as_bytecode\u001b[1;34m(model)\u001b[0m\n\u001b[0;32m     75\u001b[0m         \u001b[1;32mwith\u001b[0m \u001b[0mtf\u001b[0m\u001b[1;33m.\u001b[0m\u001b[0mio\u001b[0m\u001b[1;33m.\u001b[0m\u001b[0mgfile\u001b[0m\u001b[1;33m.\u001b[0m\u001b[0mGFile\u001b[0m\u001b[1;33m(\u001b[0m\u001b[0mdest_path\u001b[0m\u001b[1;33m,\u001b[0m \u001b[1;34m\"rb\"\u001b[0m\u001b[1;33m)\u001b[0m \u001b[1;32mas\u001b[0m \u001b[0mf\u001b[0m\u001b[1;33m:\u001b[0m\u001b[1;33m\u001b[0m\u001b[1;33m\u001b[0m\u001b[0m\n\u001b[0;32m     76\u001b[0m           \u001b[0minfo\u001b[0m \u001b[1;33m=\u001b[0m \u001b[0mtarfile\u001b[0m\u001b[1;33m.\u001b[0m\u001b[0mTarInfo\u001b[0m\u001b[1;33m(\u001b[0m\u001b[0mname\u001b[0m\u001b[1;33m=\u001b[0m\u001b[0mos\u001b[0m\u001b[1;33m.\u001b[0m\u001b[0mpath\u001b[0m\u001b[1;33m.\u001b[0m\u001b[0mrelpath\u001b[0m\u001b[1;33m(\u001b[0m\u001b[0mdest_path\u001b[0m\u001b[1;33m,\u001b[0m \u001b[0mtemp_dir\u001b[0m\u001b[1;33m)\u001b[0m\u001b[1;33m)\u001b[0m\u001b[1;33m\u001b[0m\u001b[1;33m\u001b[0m\u001b[0m\n\u001b[1;32m---> 77\u001b[1;33m           \u001b[0minfo\u001b[0m\u001b[1;33m.\u001b[0m\u001b[0msize\u001b[0m \u001b[1;33m=\u001b[0m \u001b[0mf\u001b[0m\u001b[1;33m.\u001b[0m\u001b[0msize\u001b[0m\u001b[1;33m(\u001b[0m\u001b[1;33m)\u001b[0m\u001b[1;33m\u001b[0m\u001b[1;33m\u001b[0m\u001b[0m\n\u001b[0m\u001b[0;32m     78\u001b[0m           \u001b[0marchive\u001b[0m\u001b[1;33m.\u001b[0m\u001b[0maddfile\u001b[0m\u001b[1;33m(\u001b[0m\u001b[0mtarinfo\u001b[0m\u001b[1;33m=\u001b[0m\u001b[0minfo\u001b[0m\u001b[1;33m,\u001b[0m \u001b[0mfileobj\u001b[0m\u001b[1;33m=\u001b[0m\u001b[0mf\u001b[0m\u001b[1;33m)\u001b[0m\u001b[1;33m\u001b[0m\u001b[1;33m\u001b[0m\u001b[0m\n\u001b[0;32m     79\u001b[0m   \u001b[0mtf\u001b[0m\u001b[1;33m.\u001b[0m\u001b[0mio\u001b[0m\u001b[1;33m.\u001b[0m\u001b[0mgfile\u001b[0m\u001b[1;33m.\u001b[0m\u001b[0mrmtree\u001b[0m\u001b[1;33m(\u001b[0m\u001b[0mtemp_dir\u001b[0m\u001b[1;33m)\u001b[0m\u001b[1;33m\u001b[0m\u001b[1;33m\u001b[0m\u001b[0m\n",
      "\u001b[1;32mD:\\Python 3.9.6\\lib\\site-packages\\tensorflow\\python\\lib\\io\\file_io.py\u001b[0m in \u001b[0;36msize\u001b[1;34m(self)\u001b[0m\n\u001b[0;32m     97\u001b[0m   \u001b[1;32mdef\u001b[0m \u001b[0msize\u001b[0m\u001b[1;33m(\u001b[0m\u001b[0mself\u001b[0m\u001b[1;33m)\u001b[0m\u001b[1;33m:\u001b[0m\u001b[1;33m\u001b[0m\u001b[1;33m\u001b[0m\u001b[0m\n\u001b[0;32m     98\u001b[0m     \u001b[1;34m\"\"\"Returns the size of the file.\"\"\"\u001b[0m\u001b[1;33m\u001b[0m\u001b[1;33m\u001b[0m\u001b[0m\n\u001b[1;32m---> 99\u001b[1;33m     \u001b[1;32mreturn\u001b[0m \u001b[0mstat\u001b[0m\u001b[1;33m(\u001b[0m\u001b[0mself\u001b[0m\u001b[1;33m.\u001b[0m\u001b[0m__name\u001b[0m\u001b[1;33m)\u001b[0m\u001b[1;33m.\u001b[0m\u001b[0mlength\u001b[0m\u001b[1;33m\u001b[0m\u001b[1;33m\u001b[0m\u001b[0m\n\u001b[0m\u001b[0;32m    100\u001b[0m \u001b[1;33m\u001b[0m\u001b[0m\n\u001b[0;32m    101\u001b[0m   \u001b[1;32mdef\u001b[0m \u001b[0mwrite\u001b[0m\u001b[1;33m(\u001b[0m\u001b[0mself\u001b[0m\u001b[1;33m,\u001b[0m \u001b[0mfile_content\u001b[0m\u001b[1;33m)\u001b[0m\u001b[1;33m:\u001b[0m\u001b[1;33m\u001b[0m\u001b[1;33m\u001b[0m\u001b[0m\n",
      "\u001b[1;32mD:\\Python 3.9.6\\lib\\site-packages\\tensorflow\\python\\lib\\io\\file_io.py\u001b[0m in \u001b[0;36mstat\u001b[1;34m(filename)\u001b[0m\n\u001b[0;32m    908\u001b[0m     \u001b[0merrors\u001b[0m\u001b[1;33m.\u001b[0m\u001b[0mOpError\u001b[0m\u001b[1;33m:\u001b[0m \u001b[0mIf\u001b[0m \u001b[0mthe\u001b[0m \u001b[0moperation\u001b[0m \u001b[0mfails\u001b[0m\u001b[1;33m.\u001b[0m\u001b[1;33m\u001b[0m\u001b[1;33m\u001b[0m\u001b[0m\n\u001b[0;32m    909\u001b[0m   \"\"\"\n\u001b[1;32m--> 910\u001b[1;33m   \u001b[1;32mreturn\u001b[0m \u001b[0mstat_v2\u001b[0m\u001b[1;33m(\u001b[0m\u001b[0mfilename\u001b[0m\u001b[1;33m)\u001b[0m\u001b[1;33m\u001b[0m\u001b[1;33m\u001b[0m\u001b[0m\n\u001b[0m\u001b[0;32m    911\u001b[0m \u001b[1;33m\u001b[0m\u001b[0m\n\u001b[0;32m    912\u001b[0m \u001b[1;33m\u001b[0m\u001b[0m\n",
      "\u001b[1;32mD:\\Python 3.9.6\\lib\\site-packages\\tensorflow\\python\\lib\\io\\file_io.py\u001b[0m in \u001b[0;36mstat_v2\u001b[1;34m(path)\u001b[0m\n\u001b[0;32m    924\u001b[0m     \u001b[0merrors\u001b[0m\u001b[1;33m.\u001b[0m\u001b[0mOpError\u001b[0m\u001b[1;33m:\u001b[0m \u001b[0mIf\u001b[0m \u001b[0mthe\u001b[0m \u001b[0moperation\u001b[0m \u001b[0mfails\u001b[0m\u001b[1;33m.\u001b[0m\u001b[1;33m\u001b[0m\u001b[1;33m\u001b[0m\u001b[0m\n\u001b[0;32m    925\u001b[0m   \"\"\"\n\u001b[1;32m--> 926\u001b[1;33m   \u001b[1;32mreturn\u001b[0m \u001b[0m_pywrap_file_io\u001b[0m\u001b[1;33m.\u001b[0m\u001b[0mStat\u001b[0m\u001b[1;33m(\u001b[0m\u001b[0mcompat\u001b[0m\u001b[1;33m.\u001b[0m\u001b[0mpath_to_str\u001b[0m\u001b[1;33m(\u001b[0m\u001b[0mpath\u001b[0m\u001b[1;33m)\u001b[0m\u001b[1;33m)\u001b[0m\u001b[1;33m\u001b[0m\u001b[1;33m\u001b[0m\u001b[0m\n\u001b[0m\u001b[0;32m    927\u001b[0m \u001b[1;33m\u001b[0m\u001b[0m\n\u001b[0;32m    928\u001b[0m \u001b[1;33m\u001b[0m\u001b[0m\n",
      "\u001b[1;31mNotFoundError\u001b[0m: "
     ]
    }
   ],
   "source": [
    "model = build_lstm_model(\n",
    "    X_train, output_size=1, neurons=lstm_neurons, dropout=dropout, loss=loss,\n",
    "    optimizer=optimizer)\n",
    "history = model.fit(\n",
    "    X_train, y_train, validation_data=(X_test, y_test), epochs=epochs, batch_size=batch_size, verbose=1, shuffle=True)\n",
    "# save the model to disk\n",
    "filename = 'binance.sav'\n",
    "pickle.dump(model, open(filename, 'wb'))"
   ]
  },
  {
   "cell_type": "code",
   "execution_count": 41,
   "metadata": {
    "colab": {
     "base_uri": "https://localhost:8080/",
     "height": 295
    },
    "id": "qhMsatri0miT",
    "outputId": "7ab04030-c3bc-4858-d41a-e8fadac1236f"
   },
   "outputs": [
    {
     "data": {
      "image/png": "[encoded data removed]",
      "text/plain": [
       "<Figure size 432x288 with 1 Axes>"
      ]
     },
     "metadata": {
      "needs_background": "light"
     },
     "output_type": "display_data"
    },
    {
     "name": "stdout",
     "output_type": "stream",
     "text": [
      "MAE= 0.2\n"
     ]
    }
   ],
   "source": [
    "import matplotlib.pyplot as plt\n",
    "plt.plot(history.history['loss'],'r',linewidth=2, label='Train loss')\n",
    "plt.plot(history.history['val_loss'], 'g',linewidth=2, label='Validation loss')\n",
    "plt.title('Reduction Function')\n",
    "plt.xlabel('Epochs')\n",
    "plt.ylabel('MAE')\n",
    "plt.show()\n",
    "print(\"MAE=\",dropout)"
   ]
  },
  {
   "cell_type": "code",
   "execution_count": 18,
   "metadata": {
    "colab": {
     "base_uri": "https://localhost:8080/"
    },
    "id": "mS6SPIGNpskz",
    "outputId": "0e3e1a6c-c53f-43ba-ff9b-7f9c2d5aa5fe"
   },
   "outputs": [
    {
     "data": {
      "text/plain": [
       "0.03856330430089566"
      ]
     },
     "execution_count": 18,
     "metadata": {},
     "output_type": "execute_result"
    }
   ],
   "source": [
    "targets = test[target_col][window_len:]\n",
    "preds = model.predict(X_test).squeeze()\n",
    "mean_absolute_error(preds, y_test)"
   ]
  },
  {
   "cell_type": "code",
   "execution_count": 19,
   "metadata": {
    "colab": {
     "base_uri": "https://localhost:8080/"
    },
    "id": "sbhTW5T6zVAU",
    "outputId": "4b6e6180-90cf-4227-add8-9c61a0efd7fb"
   },
   "outputs": [
    {
     "data": {
      "text/plain": [
       "0.002649204707670657"
      ]
     },
     "execution_count": 19,
     "metadata": {},
     "output_type": "execute_result"
    }
   ],
   "source": [
    "from sklearn.metrics import mean_squared_error\n",
    "MAE=mean_squared_error(preds, y_test)\n",
    "MAE\n"
   ]
  },
  {
   "cell_type": "code",
   "execution_count": 20,
   "metadata": {
    "colab": {
     "base_uri": "https://localhost:8080/"
    },
    "id": "jnFOCI9ezb8T",
    "outputId": "1c50a541-f9c1-422f-aaaf-7314dae06f78"
   },
   "outputs": [
    {
     "data": {
      "text/plain": [
       "0.5131772145956053"
      ]
     },
     "execution_count": 20,
     "metadata": {},
     "output_type": "execute_result"
    }
   ],
   "source": [
    "from sklearn.metrics import r2_score\n",
    "R2=r2_score(y_test, preds)\n",
    "R2"
   ]
  },
  {
   "cell_type": "code",
   "execution_count": 34,
   "metadata": {
    "colab": {
     "base_uri": "https://localhost:8080/",
     "height": 428
    },
    "id": "4jU0wERepsk2",
    "outputId": "b09dca6a-d71e-4280-e271-68bd15ea2d2c",
    "scrolled": true
   },
   "outputs": [
    {
     "name": "stdout",
     "output_type": "stream",
     "text": [
      "time\n",
      "2022-02-08    2.190430e+10\n",
      "2022-02-09    2.720119e+10\n",
      "2022-02-10    3.013050e+10\n",
      "2022-02-11    3.200928e+10\n",
      "2022-02-12    3.425476e+10\n",
      "                  ...     \n",
      "2022-05-09    2.372707e+10\n",
      "2022-05-10    1.834228e+10\n",
      "2022-05-11    1.834844e+10\n",
      "2022-05-12    1.513507e+10\n",
      "2022-05-13    1.218770e+10\n",
      "Length: 95, dtype: float64\n"
     ]
    },
    {
     "data": {
      "image/png": "[encoded data removed]",
      "text/plain": [
       "<Figure size 936x504 with 1 Axes>"
      ]
     },
     "metadata": {
      "needs_background": "light"
     },
     "output_type": "display_data"
    }
   ],
   "source": [
    "preds = test[target_col].values[:-window_len] * (preds + 1)\n",
    "preds = pd.Series(index=targets.index, data=preds)\n",
    "line_plot(targets, preds, 'actual', 'prediction', lw=3)\n",
    "print(preds)"
   ]
  },
  {
   "cell_type": "code",
   "execution_count": 31,
   "metadata": {},
   "outputs": [
    {
     "name": "stdout",
     "output_type": "stream",
     "text": [
      "0.01\n",
      "[0.   0.01]\n",
      "0.009642047065494755\n",
      "[0.         0.00964205]\n",
      "0.009838472480050145\n",
      "[0.         0.00983847]\n",
      "0.010181124167352743\n",
      "[0.         0.01018112]\n",
      "0.010111248761149652\n",
      "[0.         0.01011125]\n",
      "0.010251714522571407\n",
      "[0.         0.01025171]\n",
      "0.010108493720740136\n",
      "[0.         0.01010849]\n",
      "0.00942863083961\n",
      "[0.         0.00942863]\n",
      "0.00954395565845787\n",
      "[0.         0.00954396]\n",
      "0.010135356646135504\n",
      "[0.         0.01013536]\n",
      "0.010217832194095998\n",
      "[0.         0.01021783]\n",
      "0.010206332533013205\n",
      "[0.         0.01020633]\n",
      "0.010720027319533466\n",
      "[0.         0.01072003]\n",
      "0.011436858920464098\n",
      "[0.         0.01143686]\n",
      "0.010897220219498517\n",
      "[0.         0.01089722]\n",
      "0.011153656936700557\n",
      "[0.         0.01115366]\n",
      "0.01132168123179359\n",
      "[0.         0.01132168]\n",
      "0.010882109810405056\n",
      "[0.         0.01088211]\n",
      "0.010915583373455303\n",
      "[0.         0.01091558]\n",
      "0.011341188894755857\n",
      "[0.         0.01134119]\n",
      "0.010304522384667829\n",
      "[0.         0.01030452]\n",
      "0.009981899567057213\n",
      "[0.        0.0099819]\n",
      "0.009969950161243036\n",
      "[0.         0.00996995]\n",
      "0.010132085309233558\n",
      "[0.         0.01013209]\n",
      "0.010907122811706535\n",
      "[0.         0.01090712]\n",
      "0.010604973883215092\n",
      "[0.         0.01060497]\n",
      "0.010887045139259416\n",
      "[0.         0.01088705]\n",
      "0.01071552357945594\n",
      "[0.         0.01071552]\n",
      "0.010697546398238438\n",
      "[0.         0.01069755]\n",
      "0.010373411286222673\n",
      "[0.         0.01037341]\n",
      "0.010962204851317593\n",
      "[0.        0.0109622]\n",
      "0.010969571528412452\n",
      "[0.         0.01096957]\n",
      "0.010956612790635235\n",
      "[0.         0.01095661]\n",
      "0.01129317024573832\n",
      "[0.         0.01129317]\n",
      "0.010926396958419233\n",
      "[0.        0.0109264]\n",
      "0.01097724338282763\n",
      "[0.         0.01097724]\n",
      "0.010581051649035469\n",
      "[0.         0.01058105]\n",
      "0.010406742489927066\n",
      "[0.         0.01040674]\n",
      "0.010267964975845409\n",
      "[0.         0.01026796]\n",
      "0.010199700074981253\n",
      "[0.        0.0101997]\n",
      "0.010440555683475324\n",
      "[0.         0.01044056]\n",
      "0.010301400984475578\n",
      "[0.        0.0103014]\n",
      "0.010093492617051272\n",
      "[0.         0.01009349]\n",
      "0.009987518355359763\n",
      "[0.         0.00998752]\n",
      "0.009847969304278578\n",
      "[0.         0.00984797]\n",
      "0.009944440383068937\n",
      "[0.         0.00994444]\n",
      "0.00980443504793023\n",
      "[0.         0.00980444]\n",
      "0.00947284122562674\n",
      "[0.         0.00947284]\n",
      "0.009487155643380216\n",
      "[0.         0.00948716]\n",
      "0.009392607254649235\n",
      "[0.         0.00939261]\n",
      "0.009232805429864252\n",
      "[0.         0.00923281]\n",
      "0.00951658038337764\n",
      "[0.         0.00951658]\n",
      "0.009113220187583742\n",
      "[0.         0.00911322]\n",
      "0.009334812544319143\n",
      "[0.         0.00933481]\n",
      "0.0090634300182117\n",
      "[0.         0.00906343]\n",
      "0.009112202746455286\n",
      "[0.        0.0091122]\n",
      "0.009178605969276443\n",
      "[0.         0.00917861]\n",
      "0.009712497322512316\n",
      "[0.        0.0097125]\n",
      "0.009352569097492781\n",
      "[0.         0.00935257]\n",
      "0.009675423206410926\n",
      "[0.         0.00967542]\n",
      "0.009558709858759047\n",
      "[0.         0.00955871]\n",
      "0.009764553872658099\n",
      "[0.         0.00976455]\n",
      "0.010349733705300533\n",
      "[0.         0.01034973]\n",
      "0.009863679211079689\n",
      "[0.         0.00986368]\n",
      "0.00963954175032479\n",
      "[0.         0.00963954]\n",
      "0.009839421338155515\n",
      "[0.         0.00983942]\n",
      "0.009777186803708761\n",
      "[0.         0.00977719]\n",
      "0.009780467345715997\n",
      "[0.         0.00978047]\n",
      "0.010033930810651324\n",
      "[0.         0.01003393]\n",
      "0.009786800326154732\n",
      "[0.        0.0097868]\n",
      "0.009659163530497762\n",
      "[0.         0.00965916]\n",
      "0.009751720512330338\n",
      "[0.         0.00975172]\n",
      "0.010076296296296297\n",
      "[0.        0.0100763]\n",
      "0.010036892200988712\n",
      "[0.         0.01003689]\n",
      "0.010174778099132342\n",
      "[0.         0.01017478]\n",
      "0.01023269225947193\n",
      "[0.         0.01023269]\n",
      "0.010093991936481236\n",
      "[0.         0.01009399]\n",
      "0.010574197393309668\n",
      "[0.        0.0105742]\n",
      "0.010426151605733118\n",
      "[0.         0.01042615]\n",
      "0.01002702769109806\n",
      "[0.         0.01002703]\n",
      "0.010386083681156469\n",
      "[0.         0.01038608]\n",
      "0.01082380712410153\n",
      "[0.         0.01082381]\n",
      "0.01046116380415278\n",
      "[0.         0.01046116]\n",
      "0.010475933769734307\n",
      "[0.         0.01047593]\n",
      "0.010632881709223553\n",
      "[0.         0.01063288]\n",
      "0.010134601534755506\n",
      "[0.        0.0101346]\n",
      "0.010786044667635785\n",
      "[0.         0.01078604]\n",
      "0.010762434727570018\n",
      "[0.         0.01076243]\n",
      "0.01117044863548025\n",
      "[0.         0.01117045]\n",
      "0.011474483340362716\n",
      "[0.         0.01147448]\n",
      "0.013772865339183258\n",
      "[0.         0.01377287]\n",
      "0.012793592074738227\n",
      "[0.         0.01279359]\n",
      "0.015081488598987398\n",
      "[0.         0.01508149]\n",
      "0.015230080238850531\n",
      "[0.         0.01523008]\n",
      "0.013457213520197854\n",
      "[0.         0.01345721]\n"
     ]
    },
    {
     "data": {
      "image/png": "[encoded data removed]",
      "text/plain": [
       "<Figure size 432x288 with 1 Axes>"
      ]
     },
     "metadata": {
      "needs_background": "light"
     },
     "output_type": "display_data"
    }
   ],
   "source": [
    "\n",
    "import matplotlib.pyplot as plt\n",
    "import numpy as np\n",
    "remove_nan_targets = targets.dropna()\n",
    "investmentvalue=remove_nan_targets.iloc[0]\n",
    "oldarray = np.array([0])\n",
    "for value in remove_nan_targets.items():\n",
    "    pc=(investmentvalue/value[1])/100\n",
    "    ypoints = np.append(oldarray, pc)\n",
    "    print(pc)\n",
    "    print(ypoints)\n",
    "plt.title('Growth')\n",
    "plt.xlabel('Growth Percentage')\n",
    "plt.ylabel('Growth Value')    \n",
    "plt.plot(ypoints,'g', linestyle = 'dashed')\n",
    "plt.show()\n",
    "\n"
   ]
  },
  {
   "cell_type": "code",
   "execution_count": null,
   "metadata": {},
   "outputs": [],
   "source": []
  },
  {
   "cell_type": "code",
   "execution_count": null,
   "metadata": {},
   "outputs": [],
   "source": []
  },
  {
   "cell_type": "code",
   "execution_count": null,
   "metadata": {},
   "outputs": [],
   "source": []
  }
 ],
 "metadata": {
  "colab": {
   "collapsed_sections": [],
   "name": "price_prediction.ipynb",
   "provenance": []
  },
  "kernelspec": {
   "display_name": "Python 3 (ipykernel)",
   "language": "python",
   "name": "python3"
  },
  "language_info": {
   "codemirror_mode": {
    "name": "ipython",
    "version": 3
   },
   "file_extension": ".py",
   "mimetype": "text/x-python",
   "name": "python",
   "nbconvert_exporter": "python",
   "pygments_lexer": "ipython3",
   "version": "3.9.6"
  }
 },
 "nbformat": 4,
 "nbformat_minor": 1
}
